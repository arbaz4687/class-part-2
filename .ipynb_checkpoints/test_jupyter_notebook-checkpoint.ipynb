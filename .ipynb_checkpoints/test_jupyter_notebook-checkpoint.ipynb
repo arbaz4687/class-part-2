{
 "cells": [
  {
   "cell_type": "markdown",
   "id": "cad292f4",
   "metadata": {},
   "source": [
    "# python ka chill with ammar\n",
    "## how are yo \n",
    "### my name is arbaz \n"
   ]
  },
  {
   "cell_type": "markdown",
   "id": "a6c500c8",
   "metadata": {},
   "source": [
    "### **01-first program**"
   ]
  },
  {
   "cell_type": "code",
   "execution_count": 1,
   "id": "fa8d21cf",
   "metadata": {},
   "outputs": [
    {
     "name": "stdout",
     "output_type": "stream",
     "text": [
      "5\n",
      "learn with ammar\n",
      "my name is arbaz\n"
     ]
    }
   ],
   "source": [
    "print(2+3)\n",
    "print(\"learn with ammar\")\n",
    "print(\"my name is arbaz\")"
   ]
  },
  {
   "cell_type": "markdown",
   "id": "236b3b3a",
   "metadata": {},
   "source": [
    "### **02-operaters**"
   ]
  },
  {
   "cell_type": "code",
   "execution_count": 2,
   "id": "9cc39919",
   "metadata": {},
   "outputs": [
    {
     "name": "stdout",
     "output_type": "stream",
     "text": [
      "0\n",
      "5\n",
      "32\n",
      "12.25\n"
     ]
    }
   ],
   "source": [
    "print(10%2)\n",
    "print(10//2)\n",
    "print(2**5)\n",
    "print(3**2/4*5-3+4)"
   ]
  },
  {
   "cell_type": "markdown",
   "id": "c2124748",
   "metadata": {},
   "source": [
    "### **03-variables**"
   ]
  },
  {
   "cell_type": "code",
   "execution_count": 3,
   "id": "45fa2b8e",
   "metadata": {},
   "outputs": [
    {
     "name": "stdout",
     "output_type": "stream",
     "text": [
      "how are you\n",
      "hey how are you\n",
      "my name is arbaz \n",
      "arbaz's laptop\n"
     ]
    }
   ],
   "source": [
    "print(\"how are you\")\n",
    "print('hey how are you')\n",
    "print('''my name is arbaz ''')\n",
    "print(\"arbaz's laptop\")"
   ]
  },
  {
   "cell_type": "markdown",
   "id": "c854f721",
   "metadata": {},
   "source": [
    "### **04-comments **"
   ]
  },
  {
   "cell_type": "code",
   "execution_count": 4,
   "id": "6d0e3626",
   "metadata": {},
   "outputs": [
    {
     "name": "stdout",
     "output_type": "stream",
     "text": [
      "5\n",
      "learn with ammar\n",
      "my name is arbaz\n"
     ]
    }
   ],
   "source": [
    "print(2+3)# methametic function\n",
    "print(\"learn with ammar\") # is ki vjha sai yai line print hi hogha \n",
    "print(\"my name is arbaz\")"
   ]
  },
  {
   "cell_type": "markdown",
   "id": "12219e68",
   "metadata": {},
   "source": [
    "## **05-variables**"
   ]
  },
  {
   "cell_type": "code",
   "execution_count": 5,
   "id": "ee4afb33",
   "metadata": {},
   "outputs": [
    {
     "name": "stdout",
     "output_type": "stream",
     "text": [
      "5\n",
      "my name is arbaz\n",
      "15\n",
      "<class 'int'>\n",
      "<class 'str'>\n"
     ]
    }
   ],
   "source": [
    "x=5        # int or nnumeric variable\n",
    "print(x)\n",
    "y= \"my name is arbaz\"  #string variable  \n",
    "print(y)\n",
    "x=x+10  #update the value of x\n",
    "print(x)\n",
    "# how we can check type of variable \n",
    "print(type(x))\n",
    "print(type(y))"
   ]
  },
  {
   "cell_type": "markdown",
   "id": "31e535b7",
   "metadata": {},
   "source": [
    "# Rules for python\n",
    "#01- variables only contains ,numbers,letters,underscore\n",
    "#02-case senstive (mostly use lower case )\n",
    "#03-spaces are not allowed\n",
    "#04-do note use the keyword like(break,test,mean ,mode,median)\n",
    "#05-short and descriptive \n",
    "#06-do note start with number"
   ]
  },
  {
   "cell_type": "code",
   "execution_count": 6,
   "id": "55bbdf8c",
   "metadata": {},
   "outputs": [
    {
     "name": "stdout",
     "output_type": "stream",
     "text": [
      "('mango', 'apple')\n",
      "<class 'tuple'>\n",
      "<class 'int'>\n"
     ]
    }
   ],
   "source": [
    "fruite_baskit='mango','apple'\n",
    "print(fruite_baskit)\n",
    "print(type(fruite_baskit))\n",
    "fruite_baskit=8\n",
    "print(type(fruite_baskit))"
   ]
  },
  {
   "cell_type": "markdown",
   "id": "d10ca442",
   "metadata": {},
   "source": [
    "## **06-input functions**"
   ]
  },
  {
   "cell_type": "code",
   "execution_count": null,
   "id": "df5a2bdb",
   "metadata": {},
   "outputs": [],
   "source": [
    "y=input(\"enter your Registration no \")\n",
    "greetings=(\",uaf tts student\")\n",
    "print(x,y,greetings)"
   ]
  },
  {
   "cell_type": "markdown",
   "id": "a419a034",
   "metadata": {},
   "source": [
    "##3 input function"
   ]
  },
  {
   "cell_type": "code",
   "execution_count": null,
   "id": "0d89d179",
   "metadata": {},
   "outputs": [],
   "source": [
    "name=input(\"enter your good name \")\n",
    "cnic=input(\"enter your valid ide card no \")\n",
    "greetings=(\",pakistani\")\n",
    "print(name,cnic,greetings)"
   ]
  },
  {
   "cell_type": "markdown",
   "id": "f681ea31",
   "metadata": {},
   "source": [
    "## **07-condition logic**"
   ]
  },
  {
   "cell_type": "raw",
   "id": "4f04f4d3",
   "metadata": {},
   "source": [
    "# logical operator \n",
    "# less then <\n",
    "# greater then >\n",
    "#ater then equal >=\n",
    "# equal to == not equal to !=\n",
    "# less then equal to <="
   ]
  },
  {
   "cell_type": "markdown",
   "id": "93ba3e83",
   "metadata": {},
   "source": [
    "how we can use logic operator in python"
   ]
  },
  {
   "cell_type": "code",
   "execution_count": null,
   "id": "44435b2a",
   "metadata": {},
   "outputs": [],
   "source": [
    " print(4==4)\n",
    "# print(3>4)\n",
    "# print(3<4)\n",
    "# print(3==4)\n",
    "# print(3!=4)"
   ]
  },
  {
   "cell_type": "markdown",
   "id": "c52f218d",
   "metadata": {},
   "source": [
    "# # REAL life example of python"
   ]
  },
  {
   "cell_type": "code",
   "execution_count": null,
   "id": "85d90150",
   "metadata": {},
   "outputs": [],
   "source": [
    "school_admission_age=5\n",
    " haseem_age=5\n",
    "# print(school_admission_age==haseem_age)"
   ]
  },
  {
   "cell_type": "code",
   "execution_count": null,
   "id": "930dbb14",
   "metadata": {},
   "outputs": [],
   "source": [
    "school_admission_age=5\n",
    "student_age = input(\"enter your age \")\n",
    "student_age = int(student_age)\n",
    "print(school_admission_age==student_age )\n"
   ]
  },
  {
   "cell_type": "markdown",
   "id": "6b26bcd9",
   "metadata": {},
   "source": [
    "## **08-condition logic**"
   ]
  },
  {
   "cell_type": "code",
   "execution_count": null,
   "id": "c0ac6f22",
   "metadata": {},
   "outputs": [],
   "source": [
    "x=5                     #type int\n",
    "y=5.23                  #type float \n",
    "z=\"my name is arbaz \"   #type str\n",
    "# print(type(x))\n",
    "# type of convertion implicit\n",
    "# x=x*y\n",
    "# print(type(x))\n",
    "# x=x+y\n",
    "# print(x,type(x))\n",
    "#type of convertion expilicit\n",
    "school_admission_age=5\n",
    "student_age = input(\"enter your age \")\n",
    "student_age = int(student_age)\n",
    "print(school_admission_age==student_age )\n"
   ]
  },
  {
   "cell_type": "code",
   "execution_count": null,
   "id": "cbf572b8",
   "metadata": {},
   "outputs": [],
   "source": []
  }
 ],
 "metadata": {
  "kernelspec": {
   "display_name": "Python 3 (ipykernel)",
   "language": "python",
   "name": "python3"
  },
  "language_info": {
   "codemirror_mode": {
    "name": "ipython",
    "version": 3
   },
   "file_extension": ".py",
   "mimetype": "text/x-python",
   "name": "python",
   "nbconvert_exporter": "python",
   "pygments_lexer": "ipython3",
   "version": "3.11.3"
  }
 },
 "nbformat": 4,
 "nbformat_minor": 5
}
