{
 "cells": [
  {
   "cell_type": "code",
   "execution_count": 2,
   "id": "10d89b79",
   "metadata": {},
   "outputs": [
    {
     "data": {
      "text/plain": [
       "array([3, 2, 1])"
      ]
     },
     "execution_count": 2,
     "metadata": {},
     "output_type": "execute_result"
    }
   ],
   "source": [
    "import numpy as np\n",
    "x=np.array([3,2,1])\n",
    "x"
   ]
  },
  {
   "cell_type": "code",
   "execution_count": 3,
   "id": "f2425e5e",
   "metadata": {},
   "outputs": [
    {
     "data": {
      "text/plain": [
       "numpy.ndarray"
      ]
     },
     "execution_count": 3,
     "metadata": {},
     "output_type": "execute_result"
    }
   ],
   "source": [
    "type((x))"
   ]
  },
  {
   "cell_type": "code",
   "execution_count": 4,
   "id": "00f4af32",
   "metadata": {},
   "outputs": [
    {
     "data": {
      "text/plain": [
       "3"
      ]
     },
     "execution_count": 4,
     "metadata": {},
     "output_type": "execute_result"
    }
   ],
   "source": [
    "len((x))"
   ]
  },
  {
   "cell_type": "code",
   "execution_count": 5,
   "id": "dca5b879",
   "metadata": {},
   "outputs": [
    {
     "data": {
      "text/plain": [
       "array([1, 2, 3])"
      ]
     },
     "execution_count": 5,
     "metadata": {},
     "output_type": "execute_result"
    }
   ],
   "source": [
    "np.sort((x))"
   ]
  },
  {
   "cell_type": "code",
   "execution_count": 6,
   "id": "a2f6c8e6",
   "metadata": {},
   "outputs": [
    {
     "data": {
      "text/plain": [
       "2"
      ]
     },
     "execution_count": 6,
     "metadata": {},
     "output_type": "execute_result"
    }
   ],
   "source": [
    "x[1]"
   ]
  },
  {
   "cell_type": "code",
   "execution_count": 7,
   "id": "f8f01e48",
   "metadata": {},
   "outputs": [
    {
     "data": {
      "text/plain": [
       "array([0., 0., 0., 0., 0.])"
      ]
     },
     "execution_count": 7,
     "metadata": {},
     "output_type": "execute_result"
    }
   ],
   "source": [
    "np.zeros([5])"
   ]
  },
  {
   "cell_type": "code",
   "execution_count": 8,
   "id": "47826689",
   "metadata": {},
   "outputs": [
    {
     "data": {
      "text/plain": [
       "array([1., 1., 1., 1., 1., 1.])"
      ]
     },
     "execution_count": 8,
     "metadata": {},
     "output_type": "execute_result"
    }
   ],
   "source": [
    "np.ones(6)"
   ]
  },
  {
   "cell_type": "code",
   "execution_count": 9,
   "id": "db23af15",
   "metadata": {},
   "outputs": [
    {
     "data": {
      "text/plain": [
       "array([0.00000000e+000, 0.00000000e+000, 0.00000000e+000, 0.00000000e+000,\n",
       "       0.00000000e+000, 0.00000000e+000, 9.34609111e-307])"
      ]
     },
     "execution_count": 9,
     "metadata": {},
     "output_type": "execute_result"
    }
   ],
   "source": [
    "np.empty(7)"
   ]
  },
  {
   "cell_type": "code",
   "execution_count": 10,
   "id": "2299d040",
   "metadata": {},
   "outputs": [
    {
     "data": {
      "text/plain": [
       "array([0, 1, 2, 3, 4])"
      ]
     },
     "execution_count": 10,
     "metadata": {},
     "output_type": "execute_result"
    }
   ],
   "source": [
    "np.arange(5)"
   ]
  },
  {
   "cell_type": "code",
   "execution_count": 11,
   "id": "7a8ccc9c",
   "metadata": {},
   "outputs": [
    {
     "data": {
      "text/plain": [
       "array([0, 1, 2, 3, 4])"
      ]
     },
     "execution_count": 11,
     "metadata": {},
     "output_type": "execute_result"
    }
   ],
   "source": [
    "np.arange(0,5)"
   ]
  },
  {
   "cell_type": "code",
   "execution_count": 12,
   "id": "5b3514f3",
   "metadata": {},
   "outputs": [
    {
     "data": {
      "text/plain": [
       "array([ 0,  7, 14])"
      ]
     },
     "execution_count": 12,
     "metadata": {},
     "output_type": "execute_result"
    }
   ],
   "source": [
    "np.arange(0,20,7)"
   ]
  },
  {
   "cell_type": "code",
   "execution_count": 19,
   "id": "a99ec04f",
   "metadata": {},
   "outputs": [
    {
     "data": {
      "text/plain": [
       "array([   0.        ,   10.1010101 ,   20.2020202 ,   30.3030303 ,\n",
       "         40.4040404 ,   50.50505051,   60.60606061,   70.70707071,\n",
       "         80.80808081,   90.90909091,  101.01010101,  111.11111111,\n",
       "        121.21212121,  131.31313131,  141.41414141,  151.51515152,\n",
       "        161.61616162,  171.71717172,  181.81818182,  191.91919192,\n",
       "        202.02020202,  212.12121212,  222.22222222,  232.32323232,\n",
       "        242.42424242,  252.52525253,  262.62626263,  272.72727273,\n",
       "        282.82828283,  292.92929293,  303.03030303,  313.13131313,\n",
       "        323.23232323,  333.33333333,  343.43434343,  353.53535354,\n",
       "        363.63636364,  373.73737374,  383.83838384,  393.93939394,\n",
       "        404.04040404,  414.14141414,  424.24242424,  434.34343434,\n",
       "        444.44444444,  454.54545455,  464.64646465,  474.74747475,\n",
       "        484.84848485,  494.94949495,  505.05050505,  515.15151515,\n",
       "        525.25252525,  535.35353535,  545.45454545,  555.55555556,\n",
       "        565.65656566,  575.75757576,  585.85858586,  595.95959596,\n",
       "        606.06060606,  616.16161616,  626.26262626,  636.36363636,\n",
       "        646.46464646,  656.56565657,  666.66666667,  676.76767677,\n",
       "        686.86868687,  696.96969697,  707.07070707,  717.17171717,\n",
       "        727.27272727,  737.37373737,  747.47474747,  757.57575758,\n",
       "        767.67676768,  777.77777778,  787.87878788,  797.97979798,\n",
       "        808.08080808,  818.18181818,  828.28282828,  838.38383838,\n",
       "        848.48484848,  858.58585859,  868.68686869,  878.78787879,\n",
       "        888.88888889,  898.98989899,  909.09090909,  919.19191919,\n",
       "        929.29292929,  939.39393939,  949.49494949,  959.5959596 ,\n",
       "        969.6969697 ,  979.7979798 ,  989.8989899 , 1000.        ])"
      ]
     },
     "execution_count": 19,
     "metadata": {},
     "output_type": "execute_result"
    }
   ],
   "source": [
    "np.linspace(0,1000,num=100)"
   ]
  },
  {
   "cell_type": "code",
   "execution_count": 22,
   "id": "3df9e7cc",
   "metadata": {},
   "outputs": [
    {
     "data": {
      "text/plain": [
       "array([1., 1., 1., 1., 1., 1., 1., 1., 1., 1., 1., 1., 1., 1., 1., 1., 1.,\n",
       "       1., 1., 1., 1., 1., 1., 1., 1., 1., 1., 1., 1., 1.])"
      ]
     },
     "execution_count": 22,
     "metadata": {},
     "output_type": "execute_result"
    }
   ],
   "source": [
    "np.ones(30,dtype=np.float64)"
   ]
  },
  {
   "cell_type": "code",
   "execution_count": 23,
   "id": "a2b5cb59",
   "metadata": {},
   "outputs": [
    {
     "data": {
      "text/plain": [
       "array([33, 33, 54])"
      ]
     },
     "execution_count": 23,
     "metadata": {},
     "output_type": "execute_result"
    }
   ],
   "source": [
    "y=np.array([33,33,54])\n",
    "y"
   ]
  },
  {
   "cell_type": "code",
   "execution_count": 25,
   "id": "20ba9f1a",
   "metadata": {},
   "outputs": [
    {
     "data": {
      "text/plain": [
       "array([ 3,  2,  1, 33, 33, 54])"
      ]
     },
     "execution_count": 25,
     "metadata": {},
     "output_type": "execute_result"
    }
   ],
   "source": [
    "np.concatenate((x,y))"
   ]
  },
  {
   "cell_type": "code",
   "execution_count": 27,
   "id": "0c13c592",
   "metadata": {},
   "outputs": [
    {
     "data": {
      "text/plain": [
       "array([[1, 2, 3],\n",
       "       [4, 5, 6],\n",
       "       [7, 8, 9]])"
      ]
     },
     "execution_count": 27,
     "metadata": {},
     "output_type": "execute_result"
    }
   ],
   "source": [
    "z=np.array([[1,2,3],[4,5,6],[7,8,9]])\n",
    "z"
   ]
  },
  {
   "cell_type": "code",
   "execution_count": 28,
   "id": "0c460309",
   "metadata": {},
   "outputs": [
    {
     "data": {
      "text/plain": [
       "array([[1, 2, 3],\n",
       "       [4, 5, 6],\n",
       "       [7, 8, 9]])"
      ]
     },
     "execution_count": 28,
     "metadata": {},
     "output_type": "execute_result"
    }
   ],
   "source": [
    "a=np.array([[1,2,3],[4,5,6],[7,8,9]])\n",
    "a\n"
   ]
  },
  {
   "cell_type": "code",
   "execution_count": 29,
   "id": "8e8215b3",
   "metadata": {},
   "outputs": [
    {
     "data": {
      "text/plain": [
       "array([[1, 2, 3],\n",
       "       [4, 5, 6],\n",
       "       [7, 8, 9],\n",
       "       [1, 2, 3],\n",
       "       [4, 5, 6],\n",
       "       [7, 8, 9]])"
      ]
     },
     "execution_count": 29,
     "metadata": {},
     "output_type": "execute_result"
    }
   ],
   "source": [
    "np.concatenate((z,a),axis=0)"
   ]
  },
  {
   "cell_type": "code",
   "execution_count": 30,
   "id": "bf11e49c",
   "metadata": {},
   "outputs": [
    {
     "data": {
      "text/plain": [
       "array([[1, 2, 3, 1, 2, 3],\n",
       "       [4, 5, 6, 4, 5, 6],\n",
       "       [7, 8, 9, 7, 8, 9]])"
      ]
     },
     "execution_count": 30,
     "metadata": {},
     "output_type": "execute_result"
    }
   ],
   "source": [
    "np.concatenate((z,a),axis=1)"
   ]
  },
  {
   "cell_type": "code",
   "execution_count": 33,
   "id": "170ab813",
   "metadata": {},
   "outputs": [
    {
     "data": {
      "text/plain": [
       "2"
      ]
     },
     "execution_count": 33,
     "metadata": {},
     "output_type": "execute_result"
    }
   ],
   "source": [
    "z.ndim"
   ]
  },
  {
   "cell_type": "code",
   "execution_count": 34,
   "id": "77b6d4ad",
   "metadata": {},
   "outputs": [
    {
     "data": {
      "text/plain": [
       "9"
      ]
     },
     "execution_count": 34,
     "metadata": {},
     "output_type": "execute_result"
    }
   ],
   "source": [
    "z.size"
   ]
  },
  {
   "cell_type": "code",
   "execution_count": 35,
   "id": "df6c83f0",
   "metadata": {},
   "outputs": [
    {
     "data": {
      "text/plain": [
       "(3, 3)"
      ]
     },
     "execution_count": 35,
     "metadata": {},
     "output_type": "execute_result"
    }
   ],
   "source": [
    "z.shape"
   ]
  },
  {
   "cell_type": "code",
   "execution_count": 45,
   "id": "5a2cad8f",
   "metadata": {},
   "outputs": [
    {
     "data": {
      "text/plain": [
       "array([[1, 2],\n",
       "       [4, 5]])"
      ]
     },
     "execution_count": 45,
     "metadata": {},
     "output_type": "execute_result"
    }
   ],
   "source": [
    "b=np.array([[1,2],[4,5]])\n",
    "b"
   ]
  },
  {
   "cell_type": "code",
   "execution_count": 49,
   "id": "91f2e9da",
   "metadata": {},
   "outputs": [
    {
     "data": {
      "text/plain": [
       "array([[[1, 2]],\n",
       "\n",
       "       [[4, 5]]])"
      ]
     },
     "execution_count": 49,
     "metadata": {},
     "output_type": "execute_result"
    }
   ],
   "source": [
    "c=b[:,np.newaxis]\n",
    "c"
   ]
  },
  {
   "cell_type": "code",
   "execution_count": 51,
   "id": "072be179",
   "metadata": {},
   "outputs": [
    {
     "data": {
      "text/plain": [
       "array([[[1, 2],\n",
       "        [4, 5]]])"
      ]
     },
     "execution_count": 51,
     "metadata": {},
     "output_type": "execute_result"
    }
   ],
   "source": [
    "c=b[np.newaxis,:]\n",
    "c"
   ]
  },
  {
   "cell_type": "code",
   "execution_count": 56,
   "id": "1da47b0a",
   "metadata": {},
   "outputs": [
    {
     "data": {
      "text/plain": [
       "array([0, 1, 2, 3, 4, 5, 6, 7, 8])"
      ]
     },
     "execution_count": 56,
     "metadata": {},
     "output_type": "execute_result"
    }
   ],
   "source": [
    "ll=np.arange(9)\n",
    "ll"
   ]
  },
  {
   "cell_type": "code",
   "execution_count": 58,
   "id": "c5621436",
   "metadata": {},
   "outputs": [
    {
     "data": {
      "text/plain": [
       "array([[0, 1, 2],\n",
       "       [3, 4, 5],\n",
       "       [6, 7, 8]])"
      ]
     },
     "execution_count": 58,
     "metadata": {},
     "output_type": "execute_result"
    }
   ],
   "source": [
    "ll.reshape(3,3)"
   ]
  },
  {
   "cell_type": "code",
   "execution_count": 59,
   "id": "80f7bb39",
   "metadata": {},
   "outputs": [
    {
     "data": {
      "text/plain": [
       "(9,)"
      ]
     },
     "execution_count": 59,
     "metadata": {},
     "output_type": "execute_result"
    }
   ],
   "source": [
    "ll.shape"
   ]
  },
  {
   "cell_type": "code",
   "execution_count": 60,
   "id": "a3b3e511",
   "metadata": {},
   "outputs": [
    {
     "data": {
      "text/plain": [
       "1"
      ]
     },
     "execution_count": 60,
     "metadata": {},
     "output_type": "execute_result"
    }
   ],
   "source": [
    "ll.ndim"
   ]
  },
  {
   "cell_type": "code",
   "execution_count": 64,
   "id": "9162c522",
   "metadata": {},
   "outputs": [
    {
     "data": {
      "text/plain": [
       "array([[[ 1,  2,  3,  4],\n",
       "        [ 5,  6,  7,  8]],\n",
       "\n",
       "       [[ 9, 10, 11, 12],\n",
       "        [13, 14, 15, 16]]])"
      ]
     },
     "execution_count": 64,
     "metadata": {},
     "output_type": "execute_result"
    }
   ],
   "source": [
    "u=np.array([[[1,2,3,4],\n",
    "            [5,6,7,8]],\n",
    "            [[9,10,11,12],\n",
    "             [13,14,15,16]]])\n",
    "u"
   ]
  },
  {
   "cell_type": "code",
   "execution_count": 65,
   "id": "edbd05b4",
   "metadata": {},
   "outputs": [
    {
     "data": {
      "text/plain": [
       "3"
      ]
     },
     "execution_count": 65,
     "metadata": {},
     "output_type": "execute_result"
    }
   ],
   "source": [
    "u.ndim"
   ]
  },
  {
   "cell_type": "code",
   "execution_count": 69,
   "id": "6828d3b8",
   "metadata": {},
   "outputs": [],
   "source": [
    "u=np.array([[1,2,3,4],\n",
    "            [5,6,7,8],\n",
    "            [9,10,11,12],\n",
    "            [13,14,15,16]])"
   ]
  },
  {
   "cell_type": "code",
   "execution_count": 70,
   "id": "8ab03bf7",
   "metadata": {},
   "outputs": [
    {
     "data": {
      "text/plain": [
       "2"
      ]
     },
     "execution_count": 70,
     "metadata": {},
     "output_type": "execute_result"
    }
   ],
   "source": [
    "u.ndim"
   ]
  },
  {
   "cell_type": "code",
   "execution_count": 74,
   "id": "cf93ff19",
   "metadata": {},
   "outputs": [
    {
     "data": {
      "text/plain": [
       "8.5"
      ]
     },
     "execution_count": 74,
     "metadata": {},
     "output_type": "execute_result"
    }
   ],
   "source": [
    "u.mean()"
   ]
  },
  {
   "cell_type": "code",
   "execution_count": 75,
   "id": "0d6c74e3",
   "metadata": {},
   "outputs": [
    {
     "data": {
      "text/plain": [
       "array([[ 10000,  20000,  30000,  40000],\n",
       "       [ 50000,  60000,  70000,  80000],\n",
       "       [ 90000, 100000, 110000, 120000],\n",
       "       [130000, 140000, 150000, 160000]])"
      ]
     },
     "execution_count": 75,
     "metadata": {},
     "output_type": "execute_result"
    }
   ],
   "source": [
    "u*10000"
   ]
  },
  {
   "cell_type": "code",
   "execution_count": 91,
   "id": "038f83f4",
   "metadata": {},
   "outputs": [
    {
     "data": {
      "text/plain": [
       "array([[16, 15, 14, 13],\n",
       "       [12, 11, 10,  9],\n",
       "       [ 8,  7,  6,  5],\n",
       "       [ 4,  3,  2,  1]])"
      ]
     },
     "execution_count": 91,
     "metadata": {},
     "output_type": "execute_result"
    }
   ],
   "source": [
    "np.flip(u)"
   ]
  },
  {
   "cell_type": "code",
   "execution_count": 88,
   "id": "6dafc459",
   "metadata": {},
   "outputs": [
    {
     "data": {
      "text/plain": [
       "array([1, 2, 3, 5, 7, 6])"
      ]
     },
     "execution_count": 88,
     "metadata": {},
     "output_type": "execute_result"
    }
   ],
   "source": []
  },
  {
   "cell_type": "code",
   "execution_count": 90,
   "id": "bf6b5027",
   "metadata": {},
   "outputs": [
    {
     "data": {
      "text/plain": [
       "array([6, 7, 5, 3, 2, 1])"
      ]
     },
     "execution_count": 90,
     "metadata": {},
     "output_type": "execute_result"
    }
   ],
   "source": [
    "np.flip(h)"
   ]
  },
  {
   "cell_type": "code",
   "execution_count": null,
   "id": "bf97e83d",
   "metadata": {},
   "outputs": [],
   "source": []
  }
 ],
 "metadata": {
  "kernelspec": {
   "display_name": "Python 3 (ipykernel)",
   "language": "python",
   "name": "python3"
  },
  "language_info": {
   "codemirror_mode": {
    "name": "ipython",
    "version": 3
   },
   "file_extension": ".py",
   "mimetype": "text/x-python",
   "name": "python",
   "nbconvert_exporter": "python",
   "pygments_lexer": "ipython3",
   "version": "3.11.3"
  }
 },
 "nbformat": 4,
 "nbformat_minor": 5
}
